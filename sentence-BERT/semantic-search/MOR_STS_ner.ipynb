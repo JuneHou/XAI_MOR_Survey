{
 "cells": [
  {
   "cell_type": "code",
   "execution_count": 1,
   "metadata": {},
   "outputs": [
    {
     "name": "stderr",
     "output_type": "stream",
     "text": [
      "/home/jun/Workspace/envs/SBERT_env/lib/python3.10/site-packages/tqdm/auto.py:21: TqdmWarning: IProgress not found. Please update jupyter and ipywidgets. See https://ipywidgets.readthedocs.io/en/stable/user_install.html\n",
      "  from .autonotebook import tqdm as notebook_tqdm\n"
     ]
    }
   ],
   "source": [
    "import pandas as pd\n",
    "from highlight_ent import SBERTQuery\n",
    "from sentence_transformers import SentenceTransformer"
   ]
  },
  {
   "cell_type": "code",
   "execution_count": 2,
   "metadata": {},
   "outputs": [],
   "source": [
    "train_admission = pd.read_csv('path/to/CORe_Dataset/MP_IN_adm_train.csv')\n",
    "test_admission = pd.read_csv('path/to/CORe_Dataset/MP_IN_adm_test.csv')\n",
    "embedder = SentenceTransformer('path/to/training_stsbenchmark_continue_training-512_ulms_bert')"
   ]
  },
  {
   "cell_type": "code",
   "execution_count": 3,
   "metadata": {},
   "outputs": [],
   "source": [
    "selected_df = pd.read_csv('path/to/MIMIC-test.csv')\n",
    "positive = selected_df[selected_df['hospital_expire_flag'] == 1]\n",
    "negative = selected_df[selected_df['hospital_expire_flag'] == 0]\n",
    "\n",
    "queries_idx = []\n",
    "\n",
    "# Version A\n",
    "queries_idx.append(negative.iloc[1,0])\n",
    "queries_idx.append(positive.iloc[1,0])\n",
    "\n",
    "# Version B\n",
    "#queries_idx.append(negative.iloc[8,0])\n",
    "#queries_idx.append(positive.iloc[2,0])\n",
    "\n",
    "queries = test_admission.text[queries_idx].values"
   ]
  },
  {
   "cell_type": "code",
   "execution_count": 4,
   "metadata": {},
   "outputs": [
    {
     "name": "stdout",
     "output_type": "stream",
     "text": [
      "[2, 1189]\n"
     ]
    }
   ],
   "source": [
    "print(queries_idx)"
   ]
  },
  {
   "cell_type": "code",
   "execution_count": 5,
   "metadata": {},
   "outputs": [],
   "source": [
    "sbert = SBERTQuery(train_admission, test_admission, embedder)\n",
    "result_dict = sbert.query_ner(queries_idx, 3, ner_model='scispacy')"
   ]
  },
  {
   "cell_type": "code",
   "execution_count": 6,
   "metadata": {},
   "outputs": [
    {
     "data": {
      "text/html": [
       "CHIEF COMPLAINT: s/p mechanical fall<br><br>PRESENT ILLNESS: [**Age over 90 **]F s/p with hx of <span style=\"background-color: PowderBlue\">HTN</span> and <span style=\"background-color: PowderBlue\">hyperlipidemia</span> presenting s/p fall off stepladder while while cleaning the top of the refrigerator. Fell backwards onto back and left side of her head. No LOC, no CP, no SOB. Presented to LGH where a CT head showed a possible <span style=\"background-color: PowderBlue\">frontal contusion</span> vs bleed. CT C spine showed grade 1 anterolithesis of C6 on C7 by 3mm, no acute <span style=\"background-color: PowderBlue\">fracture</span>. CXR showed mildly displaced <span style=\"background-color: PowderBlue\">fractures</span> of lateral aspect of L fourth, fifth, sixth ribs. Interstitial changes with probable mild superimposed <span style=\"background-color: PowderBlue\">pulmonary edema</span>. The <span style=\"background-color: LightSalmon\">pt</span> was transferred to [**Hospital1 18**] for <span style=\"background-color: LightSalmon\">trauma</span> evaluation. In the ED a CT of the chest was performed as well as plain films of the T-spine and the left humerus. The <span style=\"background-color: LightSalmon\">pt</span> was seen by neurosurgery for her closed <span style=\"background-color: PowderBlue\">head injury</span>. their recommendations included close neuro checks. <span style=\"background-color: LightSalmon\">Pt</span> was admitted to the TSICU for <span style=\"background-color: PowderBlue\">polytrauma</span> in stable condition.<br><br>MEDICAL HISTORY: PMH: <span style=\"background-color: PowderBlue\">Hypothyroidism</span>, <span style=\"background-color: PowderBlue\">HTN</span>, <span style=\"background-color: LightSalmon\">GERD</span>, <span style=\"background-color: PowderBlue\">HL</span>, <span style=\"background-color: PowderBlue\">Chronic dizziness PSH</span>: Appendectomy, Tonsillectomy<br><br>MEDICATION ON ADMISSION: <span style=\"background-color: PowderBlue\">Meclizine</span> 25 mg PRN, <span style=\"background-color: LightSalmon\">Atenolol</span> 50 mg daily, <span style=\"background-color: LightSalmon\">Amlodipine</span> 5 mg daily, <span style=\"background-color: PowderBlue\">Nitroglycerin</span> PRN, <span style=\"background-color: PowderBlue\">Omeprazole</span> 20 mg daily, <span style=\"background-color: PowderBlue\">Isosorbide mononitrate</span> 60 mg daily, Synthroid 50 mcg daily, <span style=\"background-color: PowderBlue\">Gemfibrozil</span> 600 mg [**Hospital1 **]<br><br>ALLERGIES: <span style=\"background-color: PowderBlue\">Penicillins</span> / <span style=\"background-color: LightSalmon\">aspirin</span><br><br>PHYSICAL EXAM: Admission physical: O: T: 97.3  BP: 170/78         HR: 80   R 18      O2Sats 98% Gen: WD/WN, comfortable, <span style=\"background-color: LightSalmon\">NAD</span>. HEENT: Pupils: [**1-16**], equal       EOMs intact. small post head laceration Neck: Supple. Lungs: CTA bilaterally. tender to palpation L hemithorax Cardiac: RRR. S1/S2. Abd: Soft, NT, BS+ Extrem: Warm and well-perfused. Neuro: Mental status: Awake and alert, cooperative with exam, normal affect. Orientation: Oriented to person, place, and date. Language: Speech fluent with good comprehension and repetition. Naming intact. No <span style=\"background-color: PowderBlue\">dysarthria</span> or paraphasic errors.<br><br>FAMILY HISTORY: non-contributory<br><br>SOCIAL HISTORY: Retired. former smoker, no EtOH"
      ],
      "text/plain": [
       "<IPython.core.display.HTML object>"
      ]
     },
     "metadata": {},
     "output_type": "display_data"
    },
    {
     "name": "stdout",
     "output_type": "stream",
     "text": [
      "--------------------------------------------------------------------------- Retrieved Patient:  1 ---------------------------------------------------------------------------\n"
     ]
    },
    {
     "data": {
      "text/html": [
       "CHIEF COMPLAINT: <span style=\"background-color: PowderBlue\">abdominal <span style=\"background-color: PowderBlue\">pain</span></span><br><br>PRESENT ILLNESS: 83F known to the <span style=\"background-color: LightSalmon\">Trauma</span> surgery service presents with LLQ <span style=\"background-color: PowderBlue\">pain</span>, right <span style=\"background-color: PowderBlue\">chest <span style=\"background-color: PowderBlue\">pain</span></span> and <span style=\"background-color: PowderBlue\">hypotension</span> with some amount of <span style=\"background-color: PowderBlue\">diaphoresis</span>.  She presnets after three days of symptoms and in the absence of recent <span style=\"background-color: LightSalmon\">trauma</span>.  She is appropriately anticoagulated for a St. Jude's valve. Does have a history of prior L-sided fall seven months ago.<br><br>MEDICAL HISTORY: PMH 1. <span style=\"background-color: PowderBlue\">Atrial fibrillation</span> 2. <span style=\"background-color: PowderBlue\">Hypercholesterolemia</span> 3. <span style=\"background-color: LightSalmon\">GERD</span> 4. <span style=\"background-color: PowderBlue\">Depression</span> 5. Osteoporosis 6. <span style=\"background-color: PowderBlue\">Retroperitoneal bleed</span> [**4-16**] 7. Diastolic <span style=\"background-color: PowderBlue\">heart failure PSH</span> 1. S/P MVR with mechanical valve [**2145**] 2. S/P L4-5 laminectomy [**12-16**]<br><br>MEDICATION ON ADMISSION: [**Known lastname **] 3', <span style=\"background-color: PowderBlue\">simvastatin 40'omeprazole</span> 20', <span style=\"background-color: PowderBlue\">mirtazapine</span> 15', lopressor 25'', <span style=\"background-color: PowderBlue\">mtx</span> 12.5 weekly <span style=\"background-color: PowderBlue\">prednisone</span> 5 mg daily<br><br>ALLERGIES: <span style=\"background-color: LightSalmon\">Aspirin</span> / <span style=\"background-color: PowderBlue\">Milk</span><br><br>PHYSICAL EXAM: O:96.6 88 108/50 32 100 Gen: WD/WN, comfortable, <span style=\"background-color: LightSalmon\">NAD</span>. HEENT: Pupils: 2.5 min reactive EOMs full Chest <span style=\"background-color: PowderBlue\">CTAB Cor</span> RRR Abd s/nd/ LUQ <span style=\"background-color: PowderBlue\">tenderness</span> most prominent with diffuse <span style=\"background-color: PowderBlue\">tenderness</span> region Ext moves all extremities<br><br>FAMILY HISTORY: Non-contributory<br><br>SOCIAL HISTORY: Patient lives with a 24 hour aide and is able to do ADLs with help from aide. She is a Holocaust survivor. Her son, [**Name (NI) **], is very involved in her medical care and is her HCP. [**Name (NI) 1139**]: Non-smoker <span style=\"background-color: PowderBlue\">EtOH</span>: none Illicits: none"
      ],
      "text/plain": [
       "<IPython.core.display.HTML object>"
      ]
     },
     "metadata": {},
     "output_type": "display_data"
    },
    {
     "name": "stdout",
     "output_type": "stream",
     "text": [
      "--------------------------------------------------------------------------- Retrieved Patient:  2 ---------------------------------------------------------------------------\n"
     ]
    },
    {
     "data": {
      "text/html": [
       "CHIEF COMPLAINT: s/p fall<br><br>PRESENT ILLNESS: [**Age over 90 **]F, on [**Hospital 83024**] transferred from outside hospital after unwitnessed fall at nursing home. Per report, patient attempted  to climb out of bed and fell to floor. No LOC, but has right forehead laceration. <span style=\"background-color: LightSalmon\">Pt</span> reported to be A&O x 1 in field. Outside  hospital head CT report describes the presence of a possible right anterior epidural and subdural <span style=\"background-color: PowderBlue\">hematomas</span>. Upon arrival to  [**Hospital1 **], patient was <span style=\"background-color: PowderBlue\">hypotensive</span> (SBP in 70s), but normotensive with  IVF. Also reseived 2 U PRBCs in ED.<br><br>MEDICAL HISTORY: Afib, <span style=\"background-color: PowderBlue\">spinal stenosis</span>, <span style=\"background-color: PowderBlue\">hyponatremia</span>, <span style=\"background-color: PowderBlue\">anemia</span>, <span style=\"background-color: PowderBlue\">hypothyroid</span>, <span style=\"background-color: PowderBlue\">chronic back pain</span><br><br>MEDICATION ON ADMISSION: <span style=\"background-color: PowderBlue\">Arimidex</span> 1', <span style=\"background-color: PowderBlue\">Cardizem</span> 180', <span style=\"background-color: PowderBlue\">Cipro</span> 250'' (last dose 6/23), <span style=\"background-color: PowderBlue\">Lidoderm</span> (700mg patch) daily, prilosec 20', senokot 8.6', synthroid <span style=\"background-color: PowderBlue\">50mcg</span>', <span style=\"background-color: PowderBlue\">tylenol</span> 1gram daily, <span style=\"background-color: PowderBlue\">aggrenox</span> 200-25'', boniva 3mg/3ml qMon, <span style=\"background-color: PowderBlue\">compazine</span> 5mg Q4-6 PRN, metamucil PRN, <span style=\"background-color: PowderBlue\">oxycodone</span> 2.5mg Q6 PRN .<br><br><span style=\"background-color: PowderBlue\">ALLERGIES</span>: Patient recorded as having No Known <span style=\"background-color: PowderBlue\">Allergies</span> to Drugs<br><br>PHYSICAL EXAM: Upon admission: O: T: 98.8  BP: 112/82  HR: 115  R: 20    O2Sats: 100 3L Gen: WD/WN, comfortable, <span style=\"background-color: LightSalmon\">NAD</span>. HEENT: Pupils: R 4-->3 sluggish, L 4-->2 EOMs: Full <span style=\"background-color: PowderBlue\">Bruising</span> and lac over her right eye Neck: Supple. Lungs: CTA bilaterally. Cardiac: <span style=\"background-color: PowderBlue\">tachy</span>, irregular Abd: Soft, nontender nondistended Extrem: Warm and well-perfused. +2 distal pulses RIp hip and onto buttox with <span style=\"background-color: PowderBlue\">swelling</span>, mild <span style=\"background-color: PowderBlue\">tenderness</span>, Neuro: awake and alert, oriented x 3 , CN II-XII intact<br><br>FAMILY HISTORY: Noncontributory<br><br>SOCIAL HISTORY: Married, lives with husband"
      ],
      "text/plain": [
       "<IPython.core.display.HTML object>"
      ]
     },
     "metadata": {},
     "output_type": "display_data"
    },
    {
     "name": "stdout",
     "output_type": "stream",
     "text": [
      "--------------------------------------------------------------------------- Retrieved Patient:  3 ---------------------------------------------------------------------------\n"
     ]
    },
    {
     "data": {
      "text/html": [
       "CHIEF COMPLAINT: <span style=\"background-color: PowderBlue\">Dyspnea</span> on exertion<br><br>PRESENT ILLNESS: Mr. [**Known lastname 5395**] is a 73 year old male with mild symptoms of <span style=\"background-color: PowderBlue\">dyspnea</span> on exertion over the last 6-12 months. A recent [**Known lastname 461**] in [**2143-2-1**] revealed severe <span style=\"background-color: PowderBlue\">aortic <span style=\"background-color: PowderBlue\">stenosis</span></span> with [**First Name8 (NamePattern2) **] [**Location (un) 109**] of 0.9cm2 and mean gradient of 49mmHg. His LVEF was estimated at 50-55%. Further evaluation included cardiac catheterization which revealed three vessel <span style=\"background-color: PowderBlue\">coronary artery disease</span>. Based upon the above, he was referred for cardiac surgical intervention. He denies a history of <span style=\"background-color: PowderBlue\">chest pain</span>, <span style=\"background-color: PowderBlue\">syncope</span> and congestive heart failure.<br><br>MEDICAL HISTORY: <span style=\"background-color: PowderBlue\">Aortic <span style=\"background-color: PowderBlue\">Stenosis</span></span> <span style=\"background-color: PowderBlue\">Coronary Artery Disease</span> Hypertension <span style=\"background-color: PowderBlue\">Hypercholesterolemia Type II Diabetes Mellitus</span> Peripheral Vascular Disease Splenic <span style=\"background-color: PowderBlue\">Artery Aneurysm</span>, <span style=\"background-color: PowderBlue\">s/p coiling</span> [**2141**] <span style=\"background-color: PowderBlue\">Squamous Cell Carcinoma</span> Removal <span style=\"background-color: PowderBlue\">Tonsillectomy</span><br><br>MEDICATION ON ADMISSION: <span style=\"background-color: LightSalmon\">Aspirin</span>, <span style=\"background-color: LightSalmon\">Amlodipine</span> 10 qd, <span style=\"background-color: PowderBlue\">Lisinopril</span> 5 qd, <span style=\"background-color: PowderBlue\">Metformin</span> 500 [**Hospital1 **], <span style=\"background-color: LightSalmon\">Atenolol</span> 100 qd, <span style=\"background-color: PowderBlue\">Simvastatin</span> 20 qd<br><br>ALLERGIES: <span style=\"background-color: PowderBlue\">Hydrochlorothiazide</span> / <span style=\"background-color: PowderBlue\">Sulfonamides</span> / <span style=\"background-color: PowderBlue\">Doxycycline</span> / <span style=\"background-color: PowderBlue\">Codeine</span><br><br>PHYSICAL EXAM: PREOP EXAM Vitals: 130/70, 68, 12 General: WDWN male in no acute distress HEENT: Oropharynx benign, EOMI Neck: Supple, no JVD Lungs: CTA bilaterally Heart: Regular rate and rhythm, normal s1s2, 3/6 systolic ejection murmur which radiates to carotids Abdomen: Soft, nontender with <span style=\"background-color: PowderBlue\">normoactive bowel sounds Ext: Warm, no edema</span> Pulses: 2+ distally Neuro: Alert and oriented, CN 2- 12 grossly intact, no focal deficits noted<br><br>FAMILY HISTORY: Denies premature <span style=\"background-color: PowderBlue\">coronary artery disease</span>.<br><br>SOCIAL HISTORY: Quit tobacco 30 years ago. Admits to very light <span style=\"background-color: PowderBlue\">ETOH</span> consumption. Currently married and lives with his wife. [**Name (NI) **] is retired."
      ],
      "text/plain": [
       "<IPython.core.display.HTML object>"
      ]
     },
     "metadata": {},
     "output_type": "display_data"
    }
   ],
   "source": [
    "sbert.visualize(queries_idx[0], result_dict)"
   ]
  },
  {
   "cell_type": "code",
   "execution_count": 7,
   "metadata": {},
   "outputs": [
    {
     "data": {
      "text/html": [
       "CHIEF COMPLAINT: <span style=\"background-color: LightSalmon\">cardiac arrest</span> at home<br><br>PRESENT ILLNESS: 72 year old male with unceratin PMH presents after being found unresponsive and not breathing at home. Family reported that patient had been <span style=\"background-color: PowderBlue\">wheezing</span> for the past few days. He saw his <span style=\"background-color: PowderBlue\">PCP</span> and was given ?abx and inhalers, had CXR on [**10-31**] with extensive chronic changes with nodular interstitial changes but nothing acutely seen. He had been heard <span style=\"background-color: PowderBlue\">wheezing</span> in bed this a.m. as early as 7:30a.m. on morning of admission. Sometime between 8 and 8:30 a.m., he was found by family to be unresponsive, blue, and not breathing but still warm. EMS was called. He was found to be in either <span style=\"background-color: LightSalmon\">asystolic</span> or <span style=\"background-color: LightSalmon\">PEA</span> arrest, intubated in field and coded. He got <span style=\"background-color: LightSalmon\">atropine</span> x 2, Epi x 2 and was brought to [**Hospital1 18**] ED where he receivd more epi/<span style=\"background-color: LightSalmon\">atropine</span>, levoflox, <span style=\"background-color: PowderBlue\">flagyl</span>, <span style=\"background-color: PowderBlue\">1 amp</span> <span style=\"background-color: PowderBlue\">calcium gluconate</span>, 10 u insulin, <span style=\"background-color: PowderBlue\">1 amp</span> D50 and ASA 325 x 1.  He received CPR both in transport and in the ED. EKG showed diffuse ST depressions. Given this he was emergently cathed. On arrival in the cath lab, he was again <span style=\"background-color: PowderBlue\">pulseless</span> and coded. Cath with PA saturations in the 90's with high PCWP but clean coronaries; this was likely due to a failure of peripheral/mitochondrial ability to <span style=\"background-color: PowderBlue\">extract oxygen</span>.  He was on <span style=\"background-color: LightSalmon\">levophed</span> and <span style=\"background-color: LightSalmon\">epinephrine</span> and intermittently dropping his blood pressures to 50's, requiring frequent boluses of <span style=\"background-color: LightSalmon\">epinephrine</span>.  At transfer to the ICU, the patient was unresponsive, difficult to ventilate, in <span style=\"background-color: LightSalmon\">shock</span>, and anuric.  He continued to have episodes of <span style=\"background-color: LightSalmon\">hypotension</span> requiring boluses of epi every 10 mins. A subclavin line placed for additional access.<br><br>MEDICAL HISTORY: history of tobacco use: ?<span style=\"background-color: PowderBlue\">COPD</span> no other known history<br><br>MEDICATION ON ADMISSION: inhalers (started by <span style=\"background-color: PowderBlue\">PCP</span> this week)<br><br><span style=\"background-color: PowderBlue\">ALLERGIES</span>: Patient recorded as having No Known <span style=\"background-color: PowderBlue\">Allergies</span> to Drugs<br><br>PHYSICAL EXAM: Vitals: HR 109 BP 125/58 on multiple vasopressors RR 22 100% A/C 400x14/peep 5 with high <span style=\"background-color: PowderBlue\">PIPs</span> and Plateaus Gen: Intubated, sedated HEENT: MMM, pupils dilated. Neck: supple CV: <span style=\"background-color: PowderBlue\">tachy</span> with episodes of irregular <span style=\"background-color: PowderBlue\">tachy</span>. no r/m/g Pulm: <span style=\"background-color: PowderBlue\">Wheezing</span> bilaterally Abd: soft, nt Ext: no <span style=\"background-color: PowderBlue\">edema</span>, cool, clamped. distal pulses not palpable. Neuro: unresponsive. dilated pupils. .<br><br>FAMILY HISTORY: Non-contributory<br><br>SOCIAL HISTORY: [**12-11**] ppd smoker"
      ],
      "text/plain": [
       "<IPython.core.display.HTML object>"
      ]
     },
     "metadata": {},
     "output_type": "display_data"
    },
    {
     "name": "stdout",
     "output_type": "stream",
     "text": [
      "--------------------------------------------------------------------------- Retrieved Patient:  1 ---------------------------------------------------------------------------\n"
     ]
    },
    {
     "data": {
      "text/html": [
       "CHIEF COMPLAINT: Found Down<br><br>PRESENT ILLNESS: This is a [**Age over 90 **] year old female with history of insulin dependent <span style=\"background-color: PowderBlue\">DM</span>, <span style=\"background-color: PowderBlue\">HTN</span>, and <span style=\"background-color: PowderBlue\">cerebrovascular disease</span> who presented after being found unresponsive at her home and having had a <span style=\"background-color: LightSalmon\">PEA</span> arrest.  The patient was last seen three days prior to presentation when she reported feeling somewhat unwell but had no particular localizing symptoms.  She was not seen in the ensuing days over the weekend and then today her paperboy noted multiple papers piled up on the porch.   He called the police who broke into the house and discovered the patient breathing but minimally reponsive.  EMS was then called and arrived on the scene found her in rapid AF with <span style=\"background-color: LightSalmon\">hypotension</span>, intubated the patient in the field, and brought her to the ED.  En route to the ED the patient did have a <span style=\"background-color: LightSalmon\">PEA</span> arrest and received <span style=\"background-color: LightSalmon\">epinephrine</span> and <span style=\"background-color: LightSalmon\">atropine</span> before arriving in the ED where converted to <span style=\"background-color: PowderBlue\">VF</span>, received one defibrillation attempt, and then another round of epi/<span style=\"background-color: LightSalmon\">atropine</span> before return of spontaneous circulation though she was quite <span style=\"background-color: PowderBlue\">hypotensive</span>.  She also received one amp <span style=\"background-color: PowderBlue\">bicarbonate</span>, six liters of fluid, and was started on <span style=\"background-color: PowderBlue\">phenylephrine</span>.  ET tube was replaced in ED due to noted <span style=\"background-color: PowderBlue\">abdominal distension</span> and concern field intubation was esophageal.  PIV placed in the field noted to be infiltrated with surrounding arm cold.  Labs revealed <span style=\"background-color: PowderBlue\">leukocytosis</span> to 19.1, <span style=\"background-color: PowderBlue\">lactate</span> of 6.6 and ABG 7.13/65/38.  CT scan head showed hypoattenuation of the entire left parietal lobe, CT chest with bilateral pleural effusions/ consolidations and multiple pulmonary emboli with clot in the left atrial appendage.  She received <span style=\"background-color: PowderBlue\">vancomycin</span> and <span style=\"background-color: PowderBlue\">pipercillin-tazobactam</span> for <span style=\"background-color: PowderBlue\">undifferentiated shock</span>.  Cardiology was consulted regarding <span style=\"background-color: PowderBlue\">atrial fibrillation</span> and recommended against rate control given it was felt high rate was needed to compensate for poor contractility post arrest.<br><br>MEDICAL HISTORY: - insulin dependent <span style=\"background-color: PowderBlue\">diabetes</span> - <span style=\"background-color: PowderBlue\">CVA</span> earlier this year causing <span style=\"background-color: PowderBlue\">hallucinations</span> per report - afib on <span style=\"background-color: PowderBlue\">ASA</span> - <span style=\"background-color: PowderBlue\">Hypertension</span><br><br>MEDICATION ON ADMISSION: <span style=\"background-color: PowderBlue\">ASA</span><br><br>ALLERGIES: <span style=\"background-color: PowderBlue\">Penicillins</span> / Sulfa (<span style=\"background-color: PowderBlue\">Sulfonamide</span> Antibiotics)<br><br>PHYSICAL EXAM: Vitals: 33 C 154 105/91 33 100% General: Intubated, not sedated, posturing HEENT: Pupils 4 mm, non-reactive Neck: supple, JVP not assessed, no LAD Lungs: Diffuse crackles bilaterally CV: Irreg irreg, normal S1 + S2, no murmurs, rubs, gallops Abdomen: soft, non-tender, non-distended, bowel sounds present, no rebound <span style=\"background-color: PowderBlue\">tenderness</span> or guarding, no <span style=\"background-color: PowderBlue\">organomegaly</span> GU: + foley Ext: Cold, left arm with marked <span style=\"background-color: PowderBlue\">cyanosis</span> distal to site of field IV Neuro: Unresponsive off sedation, no withdraw to pain/noxious stimuli, + posturing, pupils fixed, dilated, non-reactive bilaterally<br><br>FAMILY HISTORY: Unknown.<br><br>SOCIAL HISTORY: Lives independently in [**Location (un) 1411**]."
      ],
      "text/plain": [
       "<IPython.core.display.HTML object>"
      ]
     },
     "metadata": {},
     "output_type": "display_data"
    },
    {
     "name": "stdout",
     "output_type": "stream",
     "text": [
      "--------------------------------------------------------------------------- Retrieved Patient:  2 ---------------------------------------------------------------------------\n"
     ]
    },
    {
     "data": {
      "text/html": [
       "CHIEF COMPLAINT: s/p multiple <span style=\"background-color: PowderBlue\">cardiac arrests</span><br><br>PRESENT ILLNESS: Mr [**Known firstname **] [**Known lastname 32296**] is an 89yoM with PMH of <span style=\"background-color: PowderBlue\">DM</span>, <span style=\"background-color: PowderBlue\">HTN</span>, splenectomy [**1-27**] ruptured spleen, possible <span style=\"background-color: PowderBlue\">brain infection</span> 2 years ago, who is presenting s/p multiple episodes of <span style=\"background-color: LightSalmon\">cardiac arrest</span>. Per wife he was reportedly at an OSH this morning but later sent home. He was not feeling well this afternoon, with <span style=\"background-color: PowderBlue\">stomach pains</span>. He then went to the bathroom, where he was found to be unresponsive. He was down for ~30 minutes before EMS arrived, found to be in <span style=\"background-color: LightSalmon\">PEA</span>, then had spontaneous return of circulation quickly with 1 round of <span style=\"background-color: LightSalmon\">epinephrine</span>. Coded a second time at [**Hospital1 **] [**Location (un) 620**] (reportedly <span style=\"background-color: LightSalmon\">asystolic</span>) when preparing for med flight and returned to spontaneous circulation with 5 epi and 3 amps bicarb.  In Med Flight had V Fib arrest and shocked once with ROSC. In the [**Hospital1 18**] ED, he was given <span style=\"background-color: PowderBlue\">amiodarone</span>, then again had <span style=\"background-color: LightSalmon\">PEA</span> arrest and recieved two dose of epi with return to spontaneous circulation.  . There is questionable inferior ischemic changes on ECG. Lowest pH 7.06, <span style=\"background-color: PowderBlue\">lactate</span> 14.3, PaO2 63 on unknown amount of O2. Femoral line placed (dirty). In <span style=\"background-color: LightSalmon\">shock</span> physiology, unknown which type, maxed on <span style=\"background-color: LightSalmon\">levophed</span>, <span style=\"background-color: PowderBlue\">phenylephrine</span>, and <span style=\"background-color: PowderBlue\">dopamine</span> with SBPs 70s-80s. Bicarb gtt started. Echo in ED by cardiology fellow shows blown RV, high concern for PE but pt too unstable to go get CTPA. . Upon arrival to the CCU, the patient is intubated and not moving extremities or following commands. He has bilateral blown pupils and is unresponsive. His GSC is 3. <span style=\"background-color: LightSalmon\">Epinephrine</span> and <span style=\"background-color: PowderBlue\">vasopressin</span> drip was started. . Unable to obtain full review of systems.<br><br>MEDICAL HISTORY: PAST MEDICAL HISTORY: 1. CARDIAC RISK FACTORS: +Diabetes, +<span style=\"background-color: PowderBlue\">Hypertension</span> 2. CARDIAC HISTORY: 3. OTHER PAST MEDICAL HISTORY: -  s/p splenectomy [**1-27**] ruptured spleen -  Possible <span style=\"background-color: PowderBlue\">brain infection</span> (unknown details) 2 years ago<br><br>MEDICATION ON ADMISSION: unknown<br><br>ALLERGIES: No Allergies/ADRs on File<br><br>PHYSICAL EXAM: ADMISSION PHYSICAL EXAMINATION: VS: T= BP= 75/41 on 3 <span style=\"background-color: PowderBlue\">pressors</span>, 100/65 on 5 <span style=\"background-color: PowderBlue\">pressors</span> HR= 106-130 RR= 14 on CMV O2 sat= 95% on FiO2 100% GENERAL: Elderly male, intubated, unresponsive, GSC 3, pupils dilated and unresponsive to light bilaterally. HEENT: NC/AT. Sclera anicteric. Conjunctiva were pink, no <span style=\"background-color: PowderBlue\">pallor</span> or <span style=\"background-color: PowderBlue\">cyanosis</span> of the oral mucosa. No xanthalesma. CARDIAC: PMI located in 5th intercostal space, midclavicular line. tachycardic, no audible <span style=\"background-color: PowderBlue\">murmurs</span> although hard to hear over very junky breath sounds and ventilator LUNGS: diffuse, junky breath sounds/rales in all lung fields ABDOMEN: Soft, NTND. EXTREMITIES: femoral pulse palpable, distal pulses not palpable. Arterial stick site on right arm has pulsatile <span style=\"background-color: PowderBlue\">bleeding</span> if unwrapped, is currently in a pressure wrap SKIN: Cool skin, especially in distal extremities. Bilateral sebhorric <span style=\"background-color: PowderBlue\">keratosis</span> at t4 level PULSES: Right: Carotid 1+ Femoral 1+ Popliteal 0 DP 0 PT 0 Left: Carotid 1+ Femoral 1+ Popliteal 0 DP 0 PT 0 . DISCHARGE PHYSICAL EXAM:<br><br>FAMILY HISTORY: - unknown<br><br>SOCIAL HISTORY: - Tobacco history:  unknown - <span style=\"background-color: PowderBlue\">ETOH</span>:  unknown, although <span style=\"background-color: PowderBlue\">alcohol</span> level 16 in ED - Illicit drugs:  unknown"
      ],
      "text/plain": [
       "<IPython.core.display.HTML object>"
      ]
     },
     "metadata": {},
     "output_type": "display_data"
    },
    {
     "name": "stdout",
     "output_type": "stream",
     "text": [
      "--------------------------------------------------------------------------- Retrieved Patient:  3 ---------------------------------------------------------------------------\n"
     ]
    },
    {
     "data": {
      "text/html": [
       "CHIEF COMPLAINT: s/p <span style=\"background-color: LightSalmon\">cardiac <span style=\"background-color: PowderBlue\">arrest</span></span><br><br>PRESENT ILLNESS: Mr. [**Known lastname **] is a [**Age over 90 **]y/o gentleman with <span style=\"background-color: PowderBlue\">CAD</span>, AI, and <span style=\"background-color: PowderBlue\">CHF</span> who was transferred to [**Hospital1 18**] <span style=\"background-color: PowderBlue\">s/p <span style=\"background-color: PowderBlue\">arrest</span></span>.  He had witnessed <span style=\"background-color: PowderBlue\">arrest</span> at home with family initiating CPR. He was taken to [**Location (un) **] and had spontaneous return of circulation. He then lost pulses at least once and received a <span style=\"background-color: LightSalmon\">shock</span>. [**Location (un) **] brought him to [**Hospital1 18**]. He was intubated in the field. He lost pulses again. They shocked him in the helicopter x 2. As they were landing, he lost pulses again. He was bought into the ER actively coding. He was given <span style=\"background-color: LightSalmon\">epinephrine</span>, <span style=\"background-color: PowderBlue\">calcium</span>, <span style=\"background-color: LightSalmon\">atropine</span>. He was started <span style=\"background-color: PowderBlue\">amiodarone</span> drip and had return of circulation for about 10 minutes. Then he lost circulation again, and was shocked x 2. He then stayed stable for 20 minutes and then coded again at which time a non-sterile femoral line was placed. He was then started on <span style=\"background-color: PowderBlue\">norepherine</span> drip (maximum dose). He then lost pulses with CPR initiated. He then received epi x 1 and <span style=\"background-color: PowderBlue\">calcium</span> with return of circulation. A sterile left art line was placed. He also underwent Artic Sun cooling process. . VS on transfer: HR 89 BP 116/78 RR 20 on vent (Tv 550, PEEP 11, CMV) with <span style=\"background-color: PowderBlue\"><span style=\"background-color: PowderBlue\">O2</span> sat</span> 56 %. . On the floor, patient is intubated, unresponsive to verbal or painful stimulus. Family is at the bedside.<br><br>MEDICAL HISTORY: <span style=\"background-color: PowderBlue\">CAD</span> Systolic <span style=\"background-color: PowderBlue\">CHF</span> (EF 45%) <span style=\"background-color: PowderBlue\">HTN Mitral regurgitation Aortic insufficency BPH s/p</span> TURP in [**2173**] <span style=\"background-color: PowderBlue\">Bradycardia</span> s/p VVI <span style=\"background-color: PowderBlue\">PMP</span> in [**1-14**] <span style=\"background-color: PowderBlue\">Colon cancer</span> [**2167**], s/p resection at [**Hospital3 3765**] <span style=\"background-color: PowderBlue\">Renal artery stenosis</span> with baseline <span style=\"background-color: PowderBlue\">creatinine</span> 3.0 Recent hospitalization for PNA and severe <span style=\"background-color: PowderBlue\">UTI</span><br><br>MEDICATION ON ADMISSION: Unable to record medication list before .<br><br>ALLERGIES: <span style=\"background-color: PowderBlue\">Cipro</span> / Ace Inhibitors<br><br>PHYSICAL EXAM: HR: 83 (83 - 99) bpm BP: 97/60(73) {97/60(73) - 114/67(85)} mmHg RR: 20 (16 - 20) insp/min SpO2: 89% Heart rhythm: AF (<span style=\"background-color: PowderBlue\">Atrial Fibrillation</span>) <span style=\"background-color: PowderBlue\">O2</span> Delivery Device: Endotracheal tube Ventilator mode: CMV/ASSIST Vt (Set): 550 (550 - 550) mL RR (Set): 20 PEEP: 11 <span style=\"background-color: PowderBlue\">cmH2O</span> FiO2: 100% PIP: 37 <span style=\"background-color: PowderBlue\">cmH2O</span> Plateau: 31 <span style=\"background-color: PowderBlue\">cmH2O</span> SpO2: 89% ABG: 7.19/27/246/10/-16 Ve: 10.8 L/min PaO2 / FiO2: 246 General: Elderly gentleman, intubated HEENT: NCAT Neck: obese, jugular venous pulsations visible to the earlobe Lungs: coarse breath sounds throughout all fields bilaterally CV: Tachycardia, S1 + S2, S3 audible, no murmur audible Abdomen: soft, non-distended, no masses GU: foley in place Ext: cool, 1+ DP pulses and carotid pulse Neuro: unresponsive to <span style=\"background-color: PowderBlue\">painful stimulus<br><br></span>FAMILY HISTORY: Non-contributory<br><br>SOCIAL HISTORY: The patient lives with his daughter, son-in-law, and <span style=\"background-color: PowderBlue\">granddaughter</span> in [**Name (NI) 11269**], MA. He does not <span style=\"background-color: PowderBlue\">smoke</span> cigarettes and has not had <span style=\"background-color: PowderBlue\">EtOH</span> for the past 3 years. He was married for 60 years and his wife passed away in [**2168**]."
      ],
      "text/plain": [
       "<IPython.core.display.HTML object>"
      ]
     },
     "metadata": {},
     "output_type": "display_data"
    }
   ],
   "source": [
    "sbert.visualize(queries_idx[1], result_dict)"
   ]
  }
 ],
 "metadata": {
  "kernelspec": {
   "display_name": "SBERT_env",
   "language": "python",
   "name": "python3"
  },
  "language_info": {
   "codemirror_mode": {
    "name": "ipython",
    "version": 3
   },
   "file_extension": ".py",
   "mimetype": "text/x-python",
   "name": "python",
   "nbconvert_exporter": "python",
   "pygments_lexer": "ipython3",
   "version": "3.10.12"
  },
  "orig_nbformat": 4
 },
 "nbformat": 4,
 "nbformat_minor": 2
}
