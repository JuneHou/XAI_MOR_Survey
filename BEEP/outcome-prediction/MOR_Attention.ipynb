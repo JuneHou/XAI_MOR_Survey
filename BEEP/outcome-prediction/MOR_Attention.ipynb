{
 "cells": [
  {
   "cell_type": "code",
   "execution_count": 25,
   "metadata": {},
   "outputs": [],
   "source": [
    "import pandas as pd\n",
    "import torch\n",
    "from transformers import BertConfig, BertTokenizerFast, BertForSequenceClassification\n",
    "from XAI_Utils import MOR_Predictor\n",
    "from IPython.display import display, HTML"
   ]
  },
  {
   "cell_type": "code",
   "execution_count": 26,
   "metadata": {},
   "outputs": [],
   "source": [
    "# Load the pre-trained model and tokenizer\n",
    "device = torch.device(\"cuda\" if torch.cuda.is_available() else \"cpu\")\n",
    "model_path = \"path/to/mor_umlsbert_baseline.pt\"\n",
    "tokenizer_path = \"path/to/UmlsBERT/checkpoint/\"\n",
    "config = BertConfig.from_pretrained(tokenizer_path)\n",
    "model = BertForSequenceClassification.from_pretrained(model_path, config=config)\n",
    "model.config.output_attentions = True\n",
    "model.eval()\n",
    "tokenizer = BertTokenizerFast.from_pretrained(tokenizer_path)"
   ]
  },
  {
   "cell_type": "code",
   "execution_count": 27,
   "metadata": {},
   "outputs": [],
   "source": [
    "Predictor = MOR_Predictor(model, tokenizer, 512, device)"
   ]
  },
  {
   "cell_type": "code",
   "execution_count": 28,
   "metadata": {},
   "outputs": [
    {
     "name": "stdout",
     "output_type": "stream",
     "text": [
      "0\n"
     ]
    }
   ],
   "source": [
    "test_admission = pd.read_csv('path/to/CORe_Dataset/MP_IN_adm_test.csv')\n",
    "instance = test_admission.iloc[10,1]\n",
    "print(test_admission.iloc[10,-1])"
   ]
  },
  {
   "cell_type": "code",
   "execution_count": 36,
   "metadata": {},
   "outputs": [
    {
     "data": {
      "text/html": [
       "CHIEF COMPLAINT: abdominal pain and cough<br><br>PRESENT ILLNESS: 89yo woman with pmh sig for atrial fibrillation, with supratherapuetic INR, presenting with abdominal pain and cough. Regarding abdominal pain, this has been present for 2 days, is epigastric and \"burning.\" No diarrhea/constipation/fever/melena/hematochezia/vomitting.  No history of alcohol use or gallstones.  Cough has been present for one week, productive of whitish sputum, no sob, no fever.<br><br>MEDICAL HISTORY: atrial fibrillation OA pancreatitis<br><br>MEDICATION ON ADMISSION: Donepezil Hydrochloride 5 mg Tablet Sig: One (1) Tablet PO HS (at bedtime). Hydrocodone-Acetaminophen 5-500 mg Tablet Sig: One (1) Tablet PO Q4-6H (every 4 to 6 hours) as needed. Metoprolol Tartrate 50 mg Tablet Sig: One (1) Tablet PO BID (2 times a day). Multivitamin     Capsule Sig: One (1) Cap PO DAILY (Daily). Paroxetine HCl 20 mg Tablet Sig: One (1) Tablet PO DAILY (Daily). Valacyclovir HCl 500 mg Tablet Sig: One (1) Tablet PO bid (). Acetaminophen 325 mg Tablet Sig: 1-2 Tablets PO Q4-6H (every 4 to 6 hours) as needed. Lactulose 10 g/15 mL Syrup Sig: Thirty (30) ML PO Q8H (every 8 hours) as needed.<br><br>ALLERGIES: Levofloxacin / Macrobid / Sulfa (Sulfonamides)<br><br>PHYSICAL EXAM: 98.9 116/80 68 16 95%RA NAD No JVD, No LAD RRR nl s1s2 2/6 SEM loudest at apex Lungs with decreased BS b/l Abd soft with very mild tenderness in epigastric area, no distension, no [**Doctor Last Name **] Increased Pain and crepitus at right knee, no erythema or calf tenderness<br><br>FAMILY HISTORY: Noncontributory.<br><br>SOCIAL HISTORY: Lives at [**Hospital3 **] center."
      ],
      "text/plain": [
       "<IPython.core.display.HTML object>"
      ]
     },
     "metadata": {},
     "output_type": "display_data"
    }
   ],
   "source": [
    "# Test\n",
    "instance = test_admission.iloc[1229,1]\n",
    "agg_tokens = []\n",
    "attention = [0]\n",
    "position = []\n",
    "html = Predictor.visualize_attention(instance, agg_tokens, attention, position)\n",
    "display(HTML(html))"
   ]
  },
  {
   "cell_type": "code",
   "execution_count": 30,
   "metadata": {},
   "outputs": [
    {
     "name": "stdout",
     "output_type": "stream",
     "text": [
      "[0.16539165, 0.16086093, 0.13603492, 0.12545246, 0.09969249, 0.09680713, 0.09577163, 0.09138435, 0.08303342, 0.081430055, 0.077890605, 0.07701279, 0.07555493, 0.07207486, 0.070712194, 0.07070938, 0.06622969, 0.06509959, 0.06370279, 0.062886566, 0.06274069, 0.062132813, 0.061689887, 0.060771994, 0.0596715, 0.05913009, 0.055405464, 0.05515419, 0.05386803, 0.053285845, 0.05179752, 0.04901876, 0.04807616, 0.047868032] \n",
      " ['for', 'cath', 'vit', ':', 'for', 'soft', 'cardiac', 'evh', '74yow', 'catheterization', 'present', 'illness', 'referred', 'ecchymotic', 'referred', 'rest', 'defect', 'pulses', 'noncontributory', '.', 'nad', '.', 'w', 'history', 'by', ':', 'w', 'o', ',', 'reversible', 'no', 'ext', 'drainage', 'exertional'] \n",
      " [54, 55, 146, 15, 10, 336, 11, 329, 16, 12, 13, 14, 9, 335, 53, 42, 51, 326, 340, 43, 218, 52, 5, 338, 41, 339, 345, 19, 320, 48, 332, 323, 333, 3]\n"
     ]
    }
   ],
   "source": [
    "agg_tokens, attention, tokens, position= Predictor.agg_attention(instance, 0.3)\n",
    "\n",
    "print(attention, \"\\n\", tokens, \"\\n\", position)"
   ]
  },
  {
   "cell_type": "code",
   "execution_count": 31,
   "metadata": {},
   "outputs": [
    {
     "data": {
      "text/html": [
       "CHIEF COMPLAINT: <span style=\"background-color: rgba(204, 0, 204, 0.0)\">exertional</span> angina <span style=\"background-color: rgba(204, 0, 204, 0.204463656386888)\">w</span>/+ETT <span style=\"background-color: rgba(204, 0, 204, 0.3679368328637039)\">referred</span> <span style=\"background-color: rgba(204, 0, 204, 0.5915426959091196)\">for</span> <span style=\"background-color: rgba(204, 0, 204, 0.5591757066794456)\">cardiac</span> <span style=\"background-color: rgba(204, 0, 204, 0.42832925249149406)\">catheterization</span><br><br><span style=\"background-color: rgba(204, 0, 204, 0.392489569743551)\">PRESENT</span> <span style=\"background-color: rgba(204, 0, 204, 0.383349298965615)\">ILLNESS</span><span style=\"background-color: rgba(204, 0, 204, 0.7769701055362277)\">:</span> <span style=\"background-color: rgba(204, 0, 204, 0.4440554166276065)\">74yoW</span> c/<span style=\"background-color: rgba(204, 0, 204, 0.11418845073508838)\">o</span> sharp pain between shoulder blades x 3-4 months. Pain would radiate to chest with activity and was releived <span style=\"background-color: rgba(204, 0, 204, 0.17764586699865506)\">by</span> <span style=\"background-color: rgba(204, 0, 204, 0.3144872938273928)\">rest</span><span style=\"background-color: rgba(204, 0, 204, 0.2199529717406905)\">.</span> Stress test showed large <span style=\"background-color: rgba(204, 0, 204, 0.08641154044086906)\">reversible</span> lateral wall <span style=\"background-color: rgba(204, 0, 204, 0.26171394191691183)\">defect</span><span style=\"background-color: rgba(204, 0, 204, 0.2102313960962598)\">.</span> <span style=\"background-color: rgba(204, 0, 204, 0.31451941019936513)\">Referred</span> <span style=\"background-color: rgba(204, 0, 204, 1.0)\">for</span> <span style=\"background-color: rgba(204, 0, 204, 0.9775844329331674)\">cath</span>.<br><br>MEDICAL HISTORY: PMH:GERD,DM,Anxiety,Depression,Arthritis,Hyperthyroid,IBS PSH: tonsillectomy, CCY, Appy, Pancreatic [**Doctor First Name **], Bilat cataract [**Doctor First Name **], Rt rotator cuff [**Doctor First Name **]<br><br>MEDICATION ON ADMISSION: Plavix 75' Toprol XL 25' ASA 325' Glyburide 2.5\" Prozac 10' Fosamax 70' MVI Calcium plus <span style=\"background-color: rgba(204, 0, 204, 0.8423154747099395)\">Vit</span> D methimazole 5', Predforte 1% 1 gtt left eye [**Hospital1 **] Digestive advantage for IBS 1-2 tabs as needed<br><br>ALLERGIES: Demerol / Morphine / Penicillins / Sulfa (Sulfonamides) / Codeine / Iodine / Atropine<br><br>PHYSICAL EXAM: Admission VS T 98.4  HR 20  BP 107/60  RR 20  O2sat 97% on room air Gen  <span style=\"background-color: rgba(204, 0, 204, 0.21808065181065708)\">NAD</span>, lying in bed HEENT- PERRL/EOMI. anicteric, MMdry        Neck-supple, no JVD, no bruit Chest CTA ant exam CV RRR/S1-S2. 1/6 SEM Abd soft, NT/ND/NABS Neuro A&Ox3, nonfocal exam  Discharge Vitals 98.8 SR 80 111/57, 18 RA sat 93 wt 54.6kg Neuro a/o x3 nonfocal Pulm CTA bilat Card RRR no m/r/g Sternal incision no erythema no drainage sternum stable Abd soft nt, nd<span style=\"background-color: rgba(204, 0, 204, 0.09516986939760569)\">,</span> +BS <span style=\"background-color: rgba(204, 0, 204, 0.019142848726155577)\">Ext</span> warm palpable <span style=\"background-color: rgba(204, 0, 204, 0.24783741947223004)\">pulses</span> Left leg <span style=\"background-color: rgba(204, 0, 204, 0.521350497712694)\">EVH</span> steris healing <span style=\"background-color: rgba(204, 0, 204, 0.0635797113282797)\">no</span> <span style=\"background-color: rgba(204, 0, 204, 0.0034960900774512575)\">drainage</span> thigh <span style=\"background-color: rgba(204, 0, 204, 0.3299108757906992)\">ecchymotic</span> <span style=\"background-color: rgba(204, 0, 204, 0.5678506697244338)\">soft</span><br><br>FAMILY <span style=\"background-color: rgba(204, 0, 204, 0.19237816069798241)\">HISTORY</span><span style=\"background-color: rgba(204, 0, 204, 0.17029821526720476)\">:</span> <span style=\"background-color: rgba(204, 0, 204, 0.23034996101862168)\">noncontributory</span><br><br>SOCIAL HISTORY: married <span style=\"background-color: rgba(204, 0, 204, 0.11785233411639226)\">w</span>/4 children denies ETOH, tobacco or recreational drug use"
      ],
      "text/plain": [
       "<IPython.core.display.HTML object>"
      ]
     },
     "metadata": {},
     "output_type": "display_data"
    }
   ],
   "source": [
    "# Test\n",
    "html = Predictor.visualize_attention(instance, agg_tokens, attention, position)\n",
    "display(HTML(html))"
   ]
  },
  {
   "cell_type": "code",
   "execution_count": 32,
   "metadata": {},
   "outputs": [
    {
     "name": "stdout",
     "output_type": "stream",
     "text": [
      "1\n"
     ]
    }
   ],
   "source": [
    "instance = test_admission.iloc[1686,1]\n",
    "print(test_admission.iloc[1686,-1])"
   ]
  },
  {
   "cell_type": "code",
   "execution_count": 33,
   "metadata": {},
   "outputs": [
    {
     "name": "stdout",
     "output_type": "stream",
     "text": [
      "[0.40284333, 0.26096705, 0.13584048, 0.13318846, 0.12990136, 0.12194354, 0.11771777, 0.101678096, 0.0996085, 0.08269643, 0.08211949, 0.08180865, 0.07703859, 0.075652204, 0.075359605, 0.075333945, 0.0736814, 0.07310089, 0.07032596, 0.06774424, 0.06735738, 0.06479651, 0.060895775, 0.060197532, 0.054486033, 0.054424804] \n",
      " ['cmo', 'made', 'mva', 'another', 'to', 'with', 'intubated', 'an', 'process', 'planned', 'large', 'his', 'intubated', 'extubate', 'his', 'was', 'more', 'third', 'herniation', 'he', 'iph', 'prognosis', 'spontaneous', 'htn', 'hematoma', 'having'] \n",
      " [216, 215, 337, 336, 240, 35, 203, 11, 347, 239, 44, 218, 226, 242, 211, 214, 228, 198, 188, 109, 45, 213, 130, 350, 174, 83]\n"
     ]
    }
   ],
   "source": [
    "agg_tokens, attention, tokens, position= Predictor.agg_attention(instance, 0.3)\n",
    "\n",
    "print(attention, \"\\n\", tokens, \"\\n\", position)"
   ]
  },
  {
   "cell_type": "code",
   "execution_count": 34,
   "metadata": {},
   "outputs": [
    {
     "data": {
      "text/html": [
       "CHIEF COMPLAINT: found unresponsive<br><br>PRESENT ILLNESS: The pt is <span style=\"background-color: rgba(204, 0, 204, 0.31204772360613636)\">an</span> 82 year-old R-handed man with PMHx of mild dementia, mild HTN, hemochromatosis, and esophageal cancer treated <span style=\"background-color: rgba(204, 0, 204, 0.40283284001498476)\">with</span> radiation 25 yrs ago who presents with a <span style=\"background-color: rgba(204, 0, 204, 0.20535392003337452)\">large</span> <span style=\"background-color: rgba(204, 0, 204, 0.10641270663316943)\">IPH</span>.  Per report, patient was last known well this morning, but had been left alone at home all day.  He was found at around 7pm by one of his children in the shower, <span style=\"background-color: rgba(204, 0, 204, 0.0)\">having</span> fallen onto his left side. It is unclear how long he had been in the shower, but per his usual routine of when <span style=\"background-color: rgba(204, 0, 204, 0.10927172946459546)\">he</span> showers the estimate was for about 20-30 mins.  EMS was called and when they arrived pt had <span style=\"background-color: rgba(204, 0, 204, 0.05607050892507099)\">spontaneous</span> eye mvmts and withdrawal to pain, but was otherwise unresponsive.  His BP was in the 230's.  When he arrived a stat head CT was done which showed a large (9.5x6.1cm) right intraparenchymal <span style=\"background-color: rgba(204, 0, 204, 0.0005611228700224504)\">hematoma</span>, likely arising from the basal ganglia, with leftward subfalcine and uncal <span style=\"background-color: rgba(204, 0, 204, 0.12794416975672795)\">herniation</span>, and obstructive hydrocephalus at the level of the <span style=\"background-color: rgba(204, 0, 204, 0.14726559073585824)\">third</span> ventricle. He was <span style=\"background-color: rgba(204, 0, 204, 0.38521470433704597)\">intubated</span> in the ED, and because of <span style=\"background-color: rgba(204, 0, 204, 0.16245949639509485)\">his</span> poor <span style=\"background-color: rgba(204, 0, 204, 0.08706294370056779)\">prognosis</span> <span style=\"background-color: rgba(204, 0, 204, 0.1622894559862048)\">was</span> <span style=\"background-color: rgba(204, 0, 204, 0.7830058789626846)\">made</span> <span style=\"background-color: rgba(204, 0, 204, 1.0)\">CMO</span> by <span style=\"background-color: rgba(204, 0, 204, 0.20346017523514015)\">his</span> family.  They requested that he remain <span style=\"background-color: rgba(204, 0, 204, 0.17346184376743476)\">intubated</span> until <span style=\"background-color: rgba(204, 0, 204, 0.15121487146417567)\">more</span> family members and a priest could arrive, then they <span style=\"background-color: rgba(204, 0, 204, 0.2088499771060312)\">planned</span> <span style=\"background-color: rgba(204, 0, 204, 0.43441416234030683)\">to</span> terminally <span style=\"background-color: rgba(204, 0, 204, 0.16439439192752853)\">extubate</span> the pt. . Pt unable to give ROS as was unresponsive.<br><br>MEDICAL HISTORY: - Knee surgery - mild dementia (was on aricept in past) - spinal fusion (?lumbar) - Left scaphoid fracture - Hemochromotosis (phlebotomy) - Esophageal cancer tx w/ radiation > 25 yrs ago - Macular degeneration - Hearing loss (totally on Right, 70% on Left) - Osteoarthritis in feet - recent MVA in [**Month (only) 359**], then <span style=\"background-color: rgba(204, 0, 204, 0.4468986260506397)\">another</span> <span style=\"background-color: rgba(204, 0, 204, 0.456748678611118)\">MVA</span> shortly therafter, with resultant C2-C5 spinous <span style=\"background-color: rgba(204, 0, 204, 0.3017764688882981)\">process</span> fc - <span style=\"background-color: rgba(204, 0, 204, 0.050314205291246084)\">HTN</span> diagnosed on [**Month (only) 359**] admission (Rx'd lopressor)<br><br>MEDICATION ON ADMISSION: 1. acetaminophen 325 mg Tablet Sig: Two (2) Tablet PO TID (3 times a day). 2. docusate sodium 100 mg Capsule Sig: One (1) Capsule PO BID (2  times a day). 3. senna 8.6 mg Tablet Sig: 1-2 Tablets PO BID (2 times a day) as needed for constipation. 4. metoprolol tartrate 25 mg Tablet Sig: 0.5 Tablet PO Q6H (every 6 hours). Disp:*60 Tablet(s)* Refills:*2* 5. Alphagan P 0.1 % Drops Sig: One (1) drop to right eye Ophthalmic three times a day.<br><br>ALLERGIES: No Known Allergies / Adverse Drug Reactions<br><br>PHYSICAL EXAM: Physical Exam on Admission: Vitals: T:98.2 P: 73  R: 16  BP: 159/72 SaO2: intubated, 97% on ETT General: intubated, not sedated, unresponsive. HEENT: ETT in place Neck: No nuchal rigidity Pulmonary: Lungs CTA bilaterally without R/R/W Cardiac: RRR, nl. S1S2, no M/R/G noted Abdomen: soft, NT/ND, normoactive bowel sounds, no masses or organomegaly noted. Extremities: cuts and scrapes on bilateral arms and legs . Neurologic: . -Mental Status: intubated, unresponsive . -Cranial Nerves: I: Olfaction not tested. II: pupils fixed and dilated bilaterally, corneals absent bilaterally III, IV, VI: gaze midline, negative Doll's maneuver V: unable to test VII: ETT in place, unable to assess VIII: unable to assess IX, X: per report gag intact [**Doctor First Name 81**]: unable to test XII: ETT in place, unable to assess . -Motor: Withdrew in all 4 ext to pain with extensor posturing in RUE and flexion in LUE as well as triple flexion in bilateral lower extremities. . -Sensory: withdrawal to noxious as above . -DTRs:   [**Name2 (NI) **] Tri [**Last Name (un) 1035**] Pat Ach L  1  1    1    0   0 R  1  1    1    0   0 . Plantar response was extensor bilaterally. . -Coordination: unable to assess . -Gait: unable to assess, pt intubated<br><br>FAMILY HISTORY: no FHx of aneurysms or bleeding strokes<br><br>SOCIAL HISTORY: ETOH - hasn't in 20 years, used to have alcohol addiction problem Smoking - used to smoke, quit over 30 yrs ago Drugs - none Lives with wife in an [**Hospital3 **] facility"
      ],
      "text/plain": [
       "<IPython.core.display.HTML object>"
      ]
     },
     "metadata": {},
     "output_type": "display_data"
    }
   ],
   "source": [
    "# Test\n",
    "html = Predictor.visualize_attention(instance, agg_tokens, attention, position)\n",
    "display(HTML(html))"
   ]
  }
 ],
 "metadata": {
  "kernelspec": {
   "display_name": "BEEP_env",
   "language": "python",
   "name": "python3"
  },
  "language_info": {
   "codemirror_mode": {
    "name": "ipython",
    "version": 3
   },
   "file_extension": ".py",
   "mimetype": "text/x-python",
   "name": "python",
   "nbconvert_exporter": "python",
   "pygments_lexer": "ipython3",
   "version": "3.8.17"
  },
  "orig_nbformat": 4
 },
 "nbformat": 4,
 "nbformat_minor": 2
}
